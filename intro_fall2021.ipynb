{
  "nbformat": 4,
  "nbformat_minor": 0,
  "metadata": {
    "colab": {
      "name": "intro-fall2021.ipynb",
      "provenance": [],
      "authorship_tag": "ABX9TyMOgeHjPYbXltBZwBFQF1ms",
      "include_colab_link": true
    },
    "kernelspec": {
      "name": "python3",
      "display_name": "Python 3"
    },
    "language_info": {
      "name": "python"
    }
  },
  "cells": [
    {
      "cell_type": "markdown",
      "metadata": {
        "id": "view-in-github",
        "colab_type": "text"
      },
      "source": [
        "<a href=\"https://colab.research.google.com/github/esswambui/introductory-python/blob/main/intro_fall2021.ipynb\" target=\"_parent\"><img src=\"https://colab.research.google.com/assets/colab-badge.svg\" alt=\"Open In Colab\"/></a>"
      ]
    },
    {
      "cell_type": "markdown",
      "metadata": {
        "id": "Rc681A68y2oD"
      },
      "source": [
        "## Variables\n",
        " A variable is a container used to store data values."
      ]
    },
    {
      "cell_type": "code",
      "metadata": {
        "id": "qd542EVCy08G"
      },
      "source": [
        "#Declaring variables\n",
        "a = \"Esther\"\n",
        "b = \"Wambui\"\n",
        "c = 26\n",
        "print(a)\n",
        "print(b)\n",
        "print(c)"
      ],
      "execution_count": null,
      "outputs": []
    },
    {
      "cell_type": "code",
      "metadata": {
        "id": "2OFCiYpgzyq7"
      },
      "source": [
        "# A better way of declaring variables.\n",
        "firstname = \"Esther\"\n",
        "lastname = \"Wambui\"\n",
        "age = 26\n",
        "print(firstname)\n",
        "print(lastname)\n",
        "print(age)"
      ],
      "execution_count": null,
      "outputs": []
    },
    {
      "cell_type": "code",
      "metadata": {
        "id": "K6GfeTgH07sT"
      },
      "source": [
        "# Getting user input and storing it in a variable\n",
        "town= input(\"Where do you live?\" )\n",
        "print (town)"
      ],
      "execution_count": null,
      "outputs": []
    },
    {
      "cell_type": "code",
      "metadata": {
        "id": "y8gUm_Ks1aAT"
      },
      "source": [
        "type(lastname)\n"
      ],
      "execution_count": null,
      "outputs": []
    },
    {
      "cell_type": "code",
      "metadata": {
        "id": "UsPNwCJr2YCA"
      },
      "source": [
        "age =str(age)\n",
        "type(age)"
      ],
      "execution_count": null,
      "outputs": []
    },
    {
      "cell_type": "markdown",
      "metadata": {
        "id": "gnxogHhC3trP"
      },
      "source": [
        "### Python collections\n"
      ]
    },
    {
      "cell_type": "code",
      "metadata": {
        "id": "TnXZFKJY3oAo"
      },
      "source": [
        "#list\n",
        "grocery_list =[\"apple\",\"rice\",100,\"kales\",\"rice\",\"äpple\"]\n",
        "#tuple\n",
        "grocery_tpl =(\"apple\",\"rice\",100,\"kales\",\"rice\",\"äpple\")\n",
        "#set\n",
        "grocery_set ={\"apple\",\"rice\",100,\"kales\"}\n",
        "#dictionary\n",
        "grocery_dict ={\"fruit\":\"apple\",\"ceereal\":\"rice\",\"price\":100,\"veg\":\"kales\"}\n",
        "\n",
        "print(type(grocery_list))\n",
        "print(type(grocery_tpl))\n",
        "print(type(grocery_set))\n",
        "print(type(grocery_dict))"
      ],
      "execution_count": null,
      "outputs": []
    },
    {
      "cell_type": "code",
      "metadata": {
        "id": "YDf1E_We8NbP"
      },
      "source": [
        "num1 = int(input(\"Enter first number: \"))\n",
        "num2 = int(input(\"2Enter second number: \"))\n",
        "\n",
        "print(num1>num2)"
      ],
      "execution_count": null,
      "outputs": []
    },
    {
      "cell_type": "code",
      "metadata": {
        "id": "YHSdUxo5Dloh"
      },
      "source": [
        "num1 =3\n",
        "num2 =7\n",
        "num3 =3\n",
        "\n",
        "num1<num2 or num3==5"
      ],
      "execution_count": null,
      "outputs": []
    },
    {
      "cell_type": "code",
      "metadata": {
        "id": "aEDsdas4BtHV"
      },
      "source": [
        "x=[1,2,3]\n",
        "y=x\n",
        "z=list(x)\n",
        "print(x)\n",
        "print(y)\n",
        "print(z)"
      ],
      "execution_count": null,
      "outputs": []
    },
    {
      "cell_type": "code",
      "metadata": {
        "id": "qVDtPuYqC-hr"
      },
      "source": [
        "print(y is x)\n",
        "print(z is not x)\n",
        "print(z == x)"
      ],
      "execution_count": null,
      "outputs": []
    },
    {
      "cell_type": "code",
      "metadata": {
        "id": "9HdA35fGDSM6"
      },
      "source": [
        "4 in x"
      ],
      "execution_count": null,
      "outputs": []
    },
    {
      "cell_type": "code",
      "metadata": {
        "id": "KmFbtSPOTsRr"
      },
      "source": [
        "#not True\n",
        "a = True\n",
        "c = not a\n",
        "print('not',a,'is:',c)\n"
      ],
      "execution_count": null,
      "outputs": []
    },
    {
      "cell_type": "markdown",
      "metadata": {
        "id": "gHclxKpnFWRs"
      },
      "source": [
        "# Strings\n",
        "### Strings in python are surrounded by either single quotation marks, or double quotation marks."
      ]
    },
    {
      "cell_type": "code",
      "metadata": {
        "id": "gsBfvOm4GY0v"
      },
      "source": [
        "firstname = \"Esther\"\n",
        "lastname = 'Wambui'\n",
        "\n",
        "print(type(firstname))\n",
        "print(type(lastname))"
      ],
      "execution_count": null,
      "outputs": []
    },
    {
      "cell_type": "markdown",
      "metadata": {
        "id": "HjQVCTkuG0dA"
      },
      "source": [
        "### We can combine strings by a process known as CONCATENATION."
      ]
    },
    {
      "cell_type": "code",
      "metadata": {
        "id": "1kUqLDa9HXlA"
      },
      "source": [
        "AGE = 2\n",
        "print (\"My name is: \" + firstname + \" \" + AGE )"
      ],
      "execution_count": null,
      "outputs": []
    },
    {
      "cell_type": "markdown",
      "metadata": {
        "id": "gqW6vZjjIxov"
      },
      "source": [
        "### Conbining stings with numerical values."
      ]
    },
    {
      "cell_type": "code",
      "metadata": {
        "id": "rgnqrPzGI3PZ"
      },
      "source": [
        "age = 26\n",
        "print(\"I am {} years old\".format(age))"
      ],
      "execution_count": null,
      "outputs": []
    },
    {
      "cell_type": "code",
      "metadata": {
        "id": "3XjJFiajJ6hf"
      },
      "source": [
        "print(\"I am\", age , \"years old\")"
      ],
      "execution_count": null,
      "outputs": []
    },
    {
      "cell_type": "markdown",
      "metadata": {
        "id": "2zA4z0y8LrPZ"
      },
      "source": [
        "# Python Collections\n",
        "## Lists\n",
        "List items are ordered, changeable, and allow duplicate values"
      ]
    },
    {
      "cell_type": "code",
      "metadata": {
        "id": "3bMIQOkvMnYN"
      },
      "source": [
        "# creating a list\n",
        "numbers = [10,9,7,5,4,3]\n",
        "towns = list((\"Nairobi\",\"Mombasa\",\"Nakuru\", \"Kisumu\", \"Machakos\"))\n",
        "print(numbers)\n",
        "print(towns)"
      ],
      "execution_count": null,
      "outputs": []
    },
    {
      "cell_type": "markdown",
      "metadata": {
        "id": "Sz5wEtOAGQ9W"
      },
      "source": [
        " #### NUMBER OF ITEMS IN A LIST"
      ]
    },
    {
      "cell_type": "code",
      "metadata": {
        "id": "WuO6LIUMVSbJ"
      },
      "source": [
        "len(numbers)"
      ],
      "execution_count": null,
      "outputs": []
    },
    {
      "cell_type": "markdown",
      "metadata": {
        "id": "uCAPCO_9GhjN"
      },
      "source": [
        "#### ACCESSING ITEMS IN A LIST"
      ]
    },
    {
      "cell_type": "code",
      "metadata": {
        "id": "-rRC5gLVO_6s"
      },
      "source": [
        "print(numbers[0]) #first\n",
        "print(numbers[-1]) #last"
      ],
      "execution_count": null,
      "outputs": []
    },
    {
      "cell_type": "code",
      "metadata": {
        "id": "JEoZMOjGRAbI"
      },
      "source": [
        "print(towns[2])"
      ],
      "execution_count": null,
      "outputs": []
    },
    {
      "cell_type": "code",
      "metadata": {
        "id": "w3IEfTSoRPwh"
      },
      "source": [
        "#RANGE OF INDEXES\n",
        "print(towns[1:4]) #second, third and fourth items"
      ],
      "execution_count": null,
      "outputs": []
    },
    {
      "cell_type": "code",
      "metadata": {
        "id": "OfWpc702ThLx"
      },
      "source": [
        "print(towns[:3]) #up to the third item -- index 0,1,2"
      ],
      "execution_count": null,
      "outputs": []
    },
    {
      "cell_type": "code",
      "metadata": {
        "id": "piR3M_SnUFEA"
      },
      "source": [
        "print(towns[3:]) #from the third item-- index 3,4..."
      ],
      "execution_count": null,
      "outputs": []
    },
    {
      "cell_type": "markdown",
      "metadata": {
        "id": "bKG9p1YsGyE3"
      },
      "source": [
        "#### UPDATE THE VALUE OF LIST ITEMS"
      ]
    },
    {
      "cell_type": "code",
      "metadata": {
        "id": "RH2R2xcuYBkO"
      },
      "source": [
        "print(\"Original list\")\n",
        "print(numbers)\n",
        "\n",
        "numbers[0]=9\n",
        "\n",
        "print(\"Updated list\")\n",
        "print(numbers)"
      ],
      "execution_count": null,
      "outputs": []
    },
    {
      "cell_type": "code",
      "metadata": {
        "id": "Y1I9R0UFY0n2"
      },
      "source": [
        "# INSERT LIST ITEMS\n",
        "print(\"Original list:\")\n",
        "print(towns)\n",
        "\n",
        "#specific index\n",
        "towns.insert(3, \"Voi\")\n",
        "#at the end of the list\n",
        "towns.append(\"Eldoret\")\n",
        "print()\n",
        "print(\"Updated list:\")\n",
        "print(towns)"
      ],
      "execution_count": null,
      "outputs": []
    },
    {
      "cell_type": "markdown",
      "metadata": {
        "id": "iwfXVqMWKt3u"
      },
      "source": [
        "#### DELETE LIST ITEMS"
      ]
    },
    {
      "cell_type": "code",
      "metadata": {
        "id": "jfne0RkmalTn"
      },
      "source": [
        "#specified value\n",
        "towns.remove(\"Nairobi\")\n",
        "\n",
        "#specified index\n",
        "towns.pop(1)\n",
        "del numbers[0]\n",
        "\n",
        "#last item\n",
        "towns.pop()\n",
        "numbers.pop()\n",
        "\n",
        "print(numbers)\n",
        "print(towns)"
      ],
      "execution_count": null,
      "outputs": []
    },
    {
      "cell_type": "markdown",
      "metadata": {
        "id": "cCm8RWkcSh_H"
      },
      "source": [
        "Looping through a list"
      ]
    },
    {
      "cell_type": "code",
      "metadata": {
        "id": "MCfa-gvoSrG-"
      },
      "source": [
        "for town in towns:\n",
        "  print(\"I live in \" + town)"
      ],
      "execution_count": null,
      "outputs": []
    },
    {
      "cell_type": "markdown",
      "metadata": {
        "id": "7fzUUAHoLnqR"
      },
      "source": [
        "#### CHECK IF A NUMBER EXISTS IN A LIST"
      ]
    },
    {
      "cell_type": "code",
      "metadata": {
        "id": "fPXfvPkgWUZ5"
      },
      "source": [
        "n=int(input(\"Enter number: \"))\n",
        "\n",
        "#Use the in keyword\n",
        "if n in numbers:\n",
        "  print(\"Valid\")\n",
        "else:\n",
        "  print(\"Ïnvalid\")\n"
      ],
      "execution_count": null,
      "outputs": []
    },
    {
      "cell_type": "markdown",
      "metadata": {
        "id": "mPKDi1rujii0"
      },
      "source": [
        "## Tuples\n",
        "A tuple is a collection which is ordered and unchangeable."
      ]
    },
    {
      "cell_type": "code",
      "metadata": {
        "id": "aMl5CYNDj10P"
      },
      "source": [
        "# CREATING A TUPLE\n",
        "user = (\"Jane\", \"Doe\",\"jd@gmail.com\",20)\n",
        "user = tuple((\"Jane\", \"Doe\",\"jd@gmail.com\",20))\n",
        "print(user)\n"
      ],
      "execution_count": null,
      "outputs": []
    },
    {
      "cell_type": "code",
      "metadata": {
        "id": "7mLzGz9plWDF"
      },
      "source": [
        "# NUMBER OF ITEMS IN A TUPLE\n",
        "len(user)"
      ],
      "execution_count": null,
      "outputs": []
    },
    {
      "cell_type": "markdown",
      "metadata": {
        "id": "UNLkV0APL10A"
      },
      "source": [
        "We access **Tuple Items** similarly to how we do with **Lists**"
      ]
    },
    {
      "cell_type": "code",
      "metadata": {
        "id": "lOQVA07nmTao"
      },
      "source": [
        "print(user[0]) #first\n",
        "print(user[-1]) #last"
      ],
      "execution_count": null,
      "outputs": []
    },
    {
      "cell_type": "code",
      "metadata": {
        "id": "BS8elWtunAtw"
      },
      "source": [
        "print(user[:2]) #up to the second -- index 0,1"
      ],
      "execution_count": null,
      "outputs": []
    },
    {
      "cell_type": "code",
      "metadata": {
        "id": "YjhZon00niqQ"
      },
      "source": [
        "print(user[2:]) #from the second -- index 2,3..."
      ],
      "execution_count": null,
      "outputs": []
    },
    {
      "cell_type": "markdown",
      "metadata": {
        "id": "jaBUFSKFTsSl"
      },
      "source": [
        "Looping through a tuple"
      ]
    },
    {
      "cell_type": "code",
      "metadata": {
        "id": "aUfVqUITTIaR"
      },
      "source": [
        "for detail in user:\n",
        "  print(detail)"
      ],
      "execution_count": null,
      "outputs": []
    },
    {
      "cell_type": "markdown",
      "metadata": {
        "id": "89i5l1hZL7Z8"
      },
      "source": [
        "## Dictionaries\n",
        "Dictionaries are used to store data values in key:value pairs.\n",
        "\n",
        "A dictionary is a collection which is ordered, changeable and does not allow duplicates."
      ]
    },
    {
      "cell_type": "code",
      "metadata": {
        "id": "vQ3tTSjDqc-N"
      },
      "source": [
        "details = {\n",
        "    \"firstname\":\"Jane\",\n",
        "    \"lastname\":\"Doe\",\n",
        "    \"email\":\"jd@gmail.com\",\n",
        "    \"age\":20,\n",
        "    \"religious\":True\n",
        "}"
      ],
      "execution_count": null,
      "outputs": []
    },
    {
      "cell_type": "code",
      "metadata": {
        "id": "M4Y9ecXWsdMY"
      },
      "source": [
        "# LENGTH OF A DICTIONARY\n",
        "len(details)"
      ],
      "execution_count": null,
      "outputs": []
    },
    {
      "cell_type": "code",
      "metadata": {
        "id": "fCIdy2V7st49"
      },
      "source": [
        "# LIST THE KEYS\n",
        "details.keys()"
      ],
      "execution_count": null,
      "outputs": []
    },
    {
      "cell_type": "code",
      "metadata": {
        "id": "QM2ee-ges6OR"
      },
      "source": [
        "# LIST THE VALUES\n",
        "details.values()"
      ],
      "execution_count": null,
      "outputs": []
    },
    {
      "cell_type": "code",
      "metadata": {
        "id": "U4BGRYeFtggj"
      },
      "source": [
        "# ACCESS DICTIONARY ITEMS\n",
        "\n",
        "#use the key to access value\n",
        "details[\"firstname\"] "
      ],
      "execution_count": null,
      "outputs": []
    },
    {
      "cell_type": "code",
      "metadata": {
        "id": "EalWc-wbuymG"
      },
      "source": [
        "#UPDATE DICTIONARY\n",
        "\n",
        "details[\"firstname\"]=\"Esther\"\n",
        "\n",
        "#use update method\n",
        "details.update({\"lastname\":\"Wambui\"})\n",
        "\n",
        "print(details)"
      ],
      "execution_count": null,
      "outputs": []
    },
    {
      "cell_type": "code",
      "metadata": {
        "id": "Q-w1YKUGu9MY"
      },
      "source": [
        "# ADD DICTIONARY ITEMS\n",
        "\n",
        "details[\"city\"]=\"Nairobi\"\n",
        "#or\n",
        "details.update({\"color\":\"pink\"})\n",
        "\n",
        "print(details)"
      ],
      "execution_count": null,
      "outputs": []
    },
    {
      "cell_type": "code",
      "metadata": {
        "id": "SVicPJruxLso"
      },
      "source": [
        "# DELETE DICTIONARY ITEMS\n",
        "\n",
        "#specify the key\n",
        "details.pop(\"email\")\n",
        "#or\n",
        "del details[\"age\"]\n",
        "\n",
        "print(details)"
      ],
      "execution_count": null,
      "outputs": []
    },
    {
      "cell_type": "code",
      "metadata": {
        "id": "8R1Z1ebTyJhI"
      },
      "source": [
        "#last inserted item\n",
        "details.popitem()\n",
        "\n",
        "print (details)"
      ],
      "execution_count": null,
      "outputs": []
    },
    {
      "cell_type": "markdown",
      "metadata": {
        "id": "TQXocNfsUYRh"
      },
      "source": [
        "Looping through a dictionary"
      ]
    },
    {
      "cell_type": "code",
      "metadata": {
        "id": "gxWOYHPoUh7_"
      },
      "source": [
        "for detail in details.items():\n",
        "  print(detail)"
      ],
      "execution_count": null,
      "outputs": []
    },
    {
      "cell_type": "markdown",
      "metadata": {
        "id": "mFJ76V1V1exQ"
      },
      "source": [
        "## Creating a function"
      ]
    },
    {
      "cell_type": "code",
      "metadata": {
        "id": "2BtLC8i-1kBw"
      },
      "source": [
        "def greet():\n",
        "  print(\"Hello! How are you?\")"
      ],
      "execution_count": null,
      "outputs": []
    },
    {
      "cell_type": "markdown",
      "metadata": {
        "id": "j2yg0U_J8isf"
      },
      "source": [
        "## Calling a function"
      ]
    },
    {
      "cell_type": "code",
      "metadata": {
        "colab": {
          "base_uri": "https://localhost:8080/"
        },
        "id": "NpUhad1E8hlo",
        "outputId": "70fc635f-6af9-4c91-a02e-23fe6f5ad740"
      },
      "source": [
        "greet()"
      ],
      "execution_count": null,
      "outputs": [
        {
          "output_type": "stream",
          "name": "stdout",
          "text": [
            "Hello! How are you?\n"
          ]
        }
      ]
    },
    {
      "cell_type": "markdown",
      "metadata": {
        "id": "8CpoBR1d-CA_"
      },
      "source": [
        "## Including parameters/arguments\n"
      ]
    },
    {
      "cell_type": "code",
      "metadata": {
        "colab": {
          "base_uri": "https://localhost:8080/"
        },
        "id": "XrqShgSY-A_I",
        "outputId": "9d696611-c33b-4072-eeb7-a283f277f66b"
      },
      "source": [
        "#define the function\n",
        "def greet(name):\n",
        "  print(\"Hello \" +name +\"! How are you?\")\n",
        "\n",
        "#call the function\n",
        "greet(\"Mercy\")"
      ],
      "execution_count": null,
      "outputs": [
        {
          "output_type": "stream",
          "name": "stdout",
          "text": [
            "Hello Mercy! How are you?\n"
          ]
        }
      ]
    },
    {
      "cell_type": "code",
      "metadata": {
        "colab": {
          "base_uri": "https://localhost:8080/"
        },
        "id": "4Q67iObKlI0i",
        "outputId": "c1e49490-a5c5-4789-c7d4-42604adf1d17"
      },
      "source": [
        "greet(\"Ibrae\")"
      ],
      "execution_count": null,
      "outputs": [
        {
          "output_type": "stream",
          "name": "stdout",
          "text": [
            "Hello Ibrae! How are you?\n"
          ]
        }
      ]
    },
    {
      "cell_type": "code",
      "metadata": {
        "colab": {
          "base_uri": "https://localhost:8080/"
        },
        "id": "tlFdDQ-DCp0h",
        "outputId": "c3116fba-af5f-4f58-c3cc-833ab50ad92e"
      },
      "source": [
        "#more than one argument\n",
        "\n",
        "def greetings(name,place):\n",
        "  print(\"Hello \" +name +\"! Are you from \" +place + \"?\")\n",
        "\n",
        "\n",
        "greetings(\"Hellen\",\"Kenya\")"
      ],
      "execution_count": null,
      "outputs": [
        {
          "output_type": "stream",
          "name": "stdout",
          "text": [
            "Hello Hellen! Are you from Kenya?\n"
          ]
        }
      ]
    },
    {
      "cell_type": "code",
      "metadata": {
        "colab": {
          "base_uri": "https://localhost:8080/"
        },
        "id": "d21wlc7QlpjR",
        "outputId": "58173975-f90b-4ad7-b844-4e1ee69c1ed2"
      },
      "source": [
        "greetings(\"Rwanda\",\"Ian\")"
      ],
      "execution_count": null,
      "outputs": [
        {
          "output_type": "stream",
          "name": "stdout",
          "text": [
            "Hello Rwanda! Are you from Ian?\n"
          ]
        }
      ]
    },
    {
      "cell_type": "code",
      "metadata": {
        "colab": {
          "base_uri": "https://localhost:8080/"
        },
        "id": "T_IwBfVMCJXe",
        "outputId": "a305b87b-7884-4c36-fd73-e8283e3caf91"
      },
      "source": [
        "#using keyword arguments -- to determine order of arguments\n",
        "\n",
        "def greetings(place,name):\n",
        "  print(\"Hello \" +name +\"! Are you from \" +place + \"?\")\n",
        "\n",
        "greetings(name=\"Tom\",place=\"Kenya\")"
      ],
      "execution_count": null,
      "outputs": [
        {
          "output_type": "stream",
          "name": "stdout",
          "text": [
            "Hello Tom! Are you from Kenya?\n"
          ]
        }
      ]
    },
    {
      "cell_type": "code",
      "metadata": {
        "colab": {
          "base_uri": "https://localhost:8080/"
        },
        "id": "Q0ZPEdSvFVG6",
        "outputId": "784bf79c-5de0-4973-f29c-2490fb7e3835"
      },
      "source": [
        "#default parameter\n",
        "\n",
        "#using keyword arguments -- to determine order of arguments\n",
        "def greetings(place=\"Kenya\",name=\"Anita\"):\n",
        "  print(\"Hello \" +name +\"! Are you from \" +place + \"?\")\n",
        "\n",
        "greetings(\"Uganda\",\"Joel\")"
      ],
      "execution_count": null,
      "outputs": [
        {
          "output_type": "stream",
          "name": "stdout",
          "text": [
            "Hello Joel! Are you from Uganda?\n"
          ]
        }
      ]
    },
    {
      "cell_type": "code",
      "metadata": {
        "colab": {
          "base_uri": "https://localhost:8080/"
        },
        "id": "RdbYo5IuH6Ba",
        "outputId": "37adea5f-ba6b-46f4-948a-da6571790a72"
      },
      "source": [
        "def price_calc(price,discount=10):\n",
        "  total = price - (price*0.01*discount)\n",
        "  total = round(total,2)\n",
        "  print(\"Please pay Ksh {}\".format(total))\n",
        "\n",
        "price_calc(100,2)"
      ],
      "execution_count": null,
      "outputs": [
        {
          "output_type": "stream",
          "name": "stdout",
          "text": [
            "Please pay Ksh 98.0\n"
          ]
        }
      ]
    },
    {
      "cell_type": "markdown",
      "metadata": {
        "id": "eadX5Or_H7X-"
      },
      "source": [
        "### Return statement\n",
        " The function call is replaced with the return value from the function."
      ]
    },
    {
      "cell_type": "code",
      "metadata": {
        "colab": {
          "base_uri": "https://localhost:8080/"
        },
        "id": "BFpDvurYMDa6",
        "outputId": "4caf8d42-0cdf-47f2-b7c8-096f59bde5c5"
      },
      "source": [
        "def price_calc(price,items,discount=10):\n",
        "  total = price - (price*0.01*discount)\n",
        "  total = round(total*items,2)\n",
        "  return total\n",
        "\n",
        "price_calc(price=2500,items=3)\n"
      ],
      "execution_count": null,
      "outputs": [
        {
          "output_type": "execute_result",
          "data": {
            "text/plain": [
              "6750.0"
            ]
          },
          "metadata": {},
          "execution_count": 75
        }
      ]
    },
    {
      "cell_type": "markdown",
      "metadata": {
        "id": "b2EjaJvGXUQ-"
      },
      "source": [
        "### This code calculates whether a shopper is elligible for bonus points"
      ]
    },
    {
      "cell_type": "code",
      "metadata": {
        "id": "_lOKZxQpV0D9",
        "colab": {
          "base_uri": "https://localhost:8080/"
        },
        "outputId": "e3158c8b-5163-48ab-a67d-05c544353d95"
      },
      "source": [
        "#define the function\n",
        "def price_calc(price,items,discount=10):\n",
        "  total = price - (price*0.01*discount)\n",
        "  total = round(total*items,2)\n",
        "  return total\n",
        "\n",
        "# parameters stored in variables\n",
        "price_v= int(input(\"Ënter the initial price: \"))\n",
        "items_v= int(input(\"Ënter the number of items: \"))\n",
        "\n",
        "# Call the function and assign the value to a variable\n",
        "totalprice = price_calc(price_v, items_v)\n",
        "\n",
        "if totalprice > 5000:\n",
        "  print(\"Price:\",totalprice)\n",
        "  print(\"You have earned extra points! Thank you for shopping!\")\n",
        "else:\n",
        "  print(\"Price:\",totalprice)\n",
        "  print(\"Thank you for shopping!\")"
      ],
      "execution_count": null,
      "outputs": [
        {
          "output_type": "stream",
          "name": "stdout",
          "text": [
            "Ënter the initial price: 1000\n",
            "Ënter the number of items: 3\n",
            "Price: 2700.0\n",
            "Thank you for shopping!\n"
          ]
        }
      ]
    },
    {
      "cell_type": "markdown",
      "metadata": {
        "id": "Dkhs5lYpc7wP"
      },
      "source": [
        "### Lambda Functions\n",
        "A lambda function is a small anonymous function.\n",
        "\n",
        "A lambda function can take any number of arguments, but can only have one expression.[link text](https://)"
      ]
    },
    {
      "cell_type": "code",
      "metadata": {
        "colab": {
          "base_uri": "https://localhost:8080/"
        },
        "id": "E1HdLQhY_kAK",
        "outputId": "9bbe6688-f99a-40e0-a50f-de6b241a9951"
      },
      "source": [
        "# store a lanbda function in a variable\n",
        "x = lambda a : a * 2\n",
        "print(x(5))"
      ],
      "execution_count": null,
      "outputs": [
        {
          "output_type": "stream",
          "name": "stdout",
          "text": [
            "10\n"
          ]
        }
      ]
    },
    {
      "cell_type": "code",
      "metadata": {
        "colab": {
          "base_uri": "https://localhost:8080/"
        },
        "id": "N3vHzgimegNM",
        "outputId": "cf23bcac-92c5-4e36-80fe-dd8c94b3caf6"
      },
      "source": [
        "y = lambda a, b : a * b\n",
        "print(y(5,3))"
      ],
      "execution_count": null,
      "outputs": [
        {
          "output_type": "stream",
          "name": "stdout",
          "text": [
            "15\n"
          ]
        }
      ]
    },
    {
      "cell_type": "markdown",
      "metadata": {
        "id": "gaxO87PLfi5a"
      },
      "source": [
        "The power of lambda can be shown when you use them as an anonymous function inside another function."
      ]
    },
    {
      "cell_type": "code",
      "metadata": {
        "colab": {
          "base_uri": "https://localhost:8080/"
        },
        "id": "_A_0HUkIflIp",
        "outputId": "a1569ba3-e3ac-454f-d010-664734375e3e"
      },
      "source": [
        "def multiplier(n):\n",
        "  return lambda a : a * n\n",
        "\n",
        "double = multiplier(2)\n",
        "print(double(5))\n"
      ],
      "execution_count": null,
      "outputs": [
        {
          "output_type": "stream",
          "name": "stdout",
          "text": [
            "10\n"
          ]
        }
      ]
    },
    {
      "cell_type": "code",
      "metadata": {
        "colab": {
          "base_uri": "https://localhost:8080/"
        },
        "id": "Z1GHA0Gahj1m",
        "outputId": "3476c334-bd7a-40c1-fc4d-ed72038173fd"
      },
      "source": [
        "triple = multiplier(3)\n",
        "print(triple(5))"
      ],
      "execution_count": null,
      "outputs": [
        {
          "output_type": "stream",
          "name": "stdout",
          "text": [
            "15\n"
          ]
        }
      ]
    },
    {
      "cell_type": "markdown",
      "metadata": {
        "id": "7gQZLpOGeX8l"
      },
      "source": [
        "# Object Oriented Programming\n",
        " Almost everything in Python is an object.          \n",
        "A **Class** is a \"blueprint\" for creating **objects**.\n"
      ]
    },
    {
      "cell_type": "code",
      "metadata": {
        "id": "ZkTnBz3Dfb3W",
        "colab": {
          "base_uri": "https://localhost:8080/"
        },
        "outputId": "ef4623dd-7cca-42d3-b353-b482d31a3ce1"
      },
      "source": [
        "name = \"Esther\"\n",
        "age = 26\n",
        "\n",
        "def greet(name):\n",
        "  print(\"Hello \" +name +\"! How are you?\")\n",
        "\n",
        "print(type(name))\n",
        "print(type(age))\n",
        "print(type(greet))"
      ],
      "execution_count": null,
      "outputs": [
        {
          "output_type": "stream",
          "name": "stdout",
          "text": [
            "<class 'str'>\n",
            "<class 'int'>\n",
            "<class 'function'>\n"
          ]
        }
      ]
    },
    {
      "cell_type": "markdown",
      "metadata": {
        "id": "lf24lUsI7j9a"
      },
      "source": [
        "Classes are used to create user-defined Data Structures. Classes define functions called methods, which identify the behaviors and actions that an object created from the class can perform with its data."
      ]
    },
    {
      "cell_type": "code",
      "metadata": {
        "id": "OeXkQLwR7mtW"
      },
      "source": [
        "# Defining a class\n",
        "class MyPet:\n",
        "    '''Created a new class'''\n",
        "    "
      ],
      "execution_count": null,
      "outputs": []
    },
    {
      "cell_type": "markdown",
      "metadata": {
        "id": "KIdFLolB7xs2"
      },
      "source": [
        "While the class is the blueprint, an instance is an object that is built from a class and contains real data."
      ]
    },
    {
      "cell_type": "code",
      "metadata": {
        "colab": {
          "base_uri": "https://localhost:8080/"
        },
        "id": "dQ44Jew2-TYP",
        "outputId": "4ffdbea3-842d-45b7-83c0-fef928367a83"
      },
      "source": [
        "# Creating an object\n",
        "pet_obj = MyPet()\n",
        "\n",
        "type(pet_obj)"
      ],
      "execution_count": null,
      "outputs": [
        {
          "output_type": "execute_result",
          "data": {
            "text/plain": [
              "__main__.MyPet"
            ]
          },
          "metadata": {},
          "execution_count": 6
        }
      ]
    },
    {
      "cell_type": "markdown",
      "metadata": {
        "id": "SpN_T_K8hWDK"
      },
      "source": [
        "## Object Oriented Programming Concepts"
      ]
    },
    {
      "cell_type": "code",
      "metadata": {
        "id": "7KULF5xuhSoy"
      },
      "source": [
        ""
      ],
      "execution_count": null,
      "outputs": []
    },
    {
      "cell_type": "markdown",
      "metadata": {
        "id": "vEISeLsb8_wY"
      },
      "source": [
        "Class functions that begin with double underscore __ are called special functions as they have special meaning.\n",
        "Of one particular interest is the **__init__() function**. This special function gets called whenever a new object of that class is instantiated."
      ]
    },
    {
      "cell_type": "code",
      "metadata": {
        "id": "0VxW1FQu9MbF"
      },
      "source": [
        "class MyPet:\n",
        "  ''' A class that defines attributes and properties of a pet '''\n",
        "\n",
        "  # using the __init__ constructor\n",
        "  def __init__(self, name, age):\n",
        "    self.name = name\n",
        "    self.age = age"
      ],
      "execution_count": null,
      "outputs": []
    },
    {
      "cell_type": "code",
      "metadata": {
        "id": "aah3hyvT_U34"
      },
      "source": [
        "# Creating an object\n",
        "dog_obj = MyPet(\"Dog\",3)"
      ],
      "execution_count": null,
      "outputs": []
    },
    {
      "cell_type": "code",
      "metadata": {
        "colab": {
          "base_uri": "https://localhost:8080/"
        },
        "id": "N0zuMMU3AQW_",
        "outputId": "82bd1688-282d-4cf7-a269-edba05c2b8b0"
      },
      "source": [
        "print(dog_obj.name)\n",
        "print(dog_obj.age)"
      ],
      "execution_count": null,
      "outputs": [
        {
          "output_type": "stream",
          "name": "stdout",
          "text": [
            "Dog\n",
            "3\n"
          ]
        }
      ]
    },
    {
      "cell_type": "code",
      "metadata": {
        "colab": {
          "base_uri": "https://localhost:8080/"
        },
        "id": "nmsQzM_Libhn",
        "outputId": "ffda987b-3c91-41eb-e449-cd5bbf51ef36"
      },
      "source": [
        "fish_obj = MyPet(\"Goldy\",1)\n",
        "\n",
        "fish_obj.age"
      ],
      "execution_count": null,
      "outputs": [
        {
          "output_type": "execute_result",
          "data": {
            "text/plain": [
              "1"
            ]
          },
          "metadata": {},
          "execution_count": 5
        }
      ]
    },
    {
      "cell_type": "markdown",
      "metadata": {
        "id": "7fTJx0R9Db6Y"
      },
      "source": [
        "We can as well add functions to our class."
      ]
    },
    {
      "cell_type": "code",
      "metadata": {
        "id": "7wEEfWjJDtNz"
      },
      "source": [
        "class MyPet:\n",
        "  ''' A class that defines attributes and properties of a pet '''\n",
        "\n",
        "  # using the __init__ constructor\n",
        "  def __init__(self, name, age):\n",
        "    self.name = name\n",
        "    self.age = age\n",
        "\n",
        "  # instasnce method\n",
        "  def describe(self):\n",
        "    print(f\"I am a {self.name} and I am {self.age} years old\")\n",
        "\n"
      ],
      "execution_count": null,
      "outputs": []
    },
    {
      "cell_type": "code",
      "metadata": {
        "id": "JoDwSrJ-H8R2"
      },
      "source": [
        "# Creating an object\n",
        "dog_obj = MyPet(\"Dog\",3)\n",
        "cat_obj = MyPet(\"Cat\",12)"
      ],
      "execution_count": null,
      "outputs": []
    },
    {
      "cell_type": "code",
      "metadata": {
        "colab": {
          "base_uri": "https://localhost:8080/"
        },
        "id": "n8ZE8FrBGoem",
        "outputId": "21df97c2-eb4d-49d8-c664-0674f3d5885e"
      },
      "source": [
        "dog_obj.describe()\n",
        "cat_obj.describe()"
      ],
      "execution_count": null,
      "outputs": [
        {
          "output_type": "stream",
          "name": "stdout",
          "text": [
            "I am a Dog and I am 3 years old\n",
            "I am a Cat and I am 12 years old\n"
          ]
        }
      ]
    },
    {
      "cell_type": "markdown",
      "metadata": {
        "id": "hgrBlFzTJkGu"
      },
      "source": [
        "### Inheritance"
      ]
    },
    {
      "cell_type": "code",
      "metadata": {
        "id": "jx30H6oNKLEm"
      },
      "source": [
        "class DogClass(MyPet):\n",
        "  ''' A Derived/Sub-Class from MyPet class '''\n",
        "\n",
        "  def __init__(self, name,age):\n",
        "\n",
        "    #inheriting from the parent alass\n",
        "    super().__init__(name,age)\n",
        "\n",
        "   \n",
        "  def say_something(self):\n",
        "    print(f\"My name is {self.name} and I Bark\")"
      ],
      "execution_count": null,
      "outputs": []
    },
    {
      "cell_type": "code",
      "metadata": {
        "colab": {
          "base_uri": "https://localhost:8080/"
        },
        "id": "2TpOYy8RKrmU",
        "outputId": "ae77e743-56e0-4264-d963-f93e0d487dc0"
      },
      "source": [
        "d1 = DogClass(\"Dog\",7)\n",
        "d1.describe()\n",
        "d1.say_something()"
      ],
      "execution_count": null,
      "outputs": [
        {
          "output_type": "stream",
          "name": "stdout",
          "text": [
            "I am a Dog and I am 7 years old\n",
            "My name is Dog and I Bark\n"
          ]
        }
      ]
    },
    {
      "cell_type": "code",
      "metadata": {
        "colab": {
          "base_uri": "https://localhost:8080/",
          "height": 163
        },
        "id": "KvQgU_6cP1kl",
        "outputId": "25547457-b4ee-4403-ac68-db24dd33c3e5"
      },
      "source": [
        "dog_obj.say_something()"
      ],
      "execution_count": null,
      "outputs": [
        {
          "output_type": "error",
          "ename": "AttributeError",
          "evalue": "ignored",
          "traceback": [
            "\u001b[0;31m---------------------------------------------------------------------------\u001b[0m",
            "\u001b[0;31mAttributeError\u001b[0m                            Traceback (most recent call last)",
            "\u001b[0;32m<ipython-input-12-c77cb7aaa684>\u001b[0m in \u001b[0;36m<module>\u001b[0;34m()\u001b[0m\n\u001b[0;32m----> 1\u001b[0;31m \u001b[0mdog_obj\u001b[0m\u001b[0;34m.\u001b[0m\u001b[0msay_something\u001b[0m\u001b[0;34m(\u001b[0m\u001b[0;34m)\u001b[0m\u001b[0;34m\u001b[0m\u001b[0;34m\u001b[0m\u001b[0m\n\u001b[0m",
            "\u001b[0;31mAttributeError\u001b[0m: 'MyPet' object has no attribute 'say_something'"
          ]
        }
      ]
    },
    {
      "cell_type": "markdown",
      "metadata": {
        "id": "E6RakXv_SV-j"
      },
      "source": [
        "### Polymorphism\n",
        "With polymorphism, a method or subclass can define its behaviors and its attributes while retaining some of the functionality of its parent class. This means you can have a class that displays date and time, and then create a method to inherit the class but should display a welcome message alongside the date and time. \n",
        "\n",
        "The goals of Polymorphism in Object-oriented programming is to enforce simplicity, making codes more extendable and easy to maintain applications.\n"
      ]
    },
    {
      "cell_type": "code",
      "metadata": {
        "id": "jlMQl65yRgQt"
      },
      "source": [
        "class CatClass(MyPet):\n",
        "  ''' A Derived/Sub-Class from MyPet class '''\n",
        "\n",
        "  def __init__(self, name,age):\n",
        "\n",
        "    #inheriting from the parent alass\n",
        "    super().__init__(name,age)\n",
        "\n",
        "   \n",
        "  def say_something(self):\n",
        "    print((f\"My name is {self.name} and I Purr\"))"
      ],
      "execution_count": null,
      "outputs": []
    },
    {
      "cell_type": "code",
      "metadata": {
        "colab": {
          "base_uri": "https://localhost:8080/"
        },
        "id": "Te8Z7GVQSVbu",
        "outputId": "a94b49d2-0eb0-4b96-8664-20bf1ebc3f49"
      },
      "source": [
        "animal1=DogClass(\"qwerty\",6)\n",
        "animal2=CatClass(\"qwerty\",6)\n",
        "\n",
        "animal1.say_something()\n",
        "animal2.say_something()"
      ],
      "execution_count": null,
      "outputs": [
        {
          "output_type": "stream",
          "name": "stdout",
          "text": [
            "My name is qwerty and I Bark\n",
            "My name is qwerty and I Purr\n"
          ]
        }
      ]
    },
    {
      "cell_type": "markdown",
      "metadata": {
        "id": "7kJKI9uQb9Ns"
      },
      "source": [
        "### Encapsulation\n",
        "Encapsulation is the packing of data and functions that work on that data within a single object. By doing so, you can hide the internal state of the object from the outside. This is known as information hiding.          \n",
        "A class is an example of encapsulation. A class bundles data and methods into a single unit. And a class provides the access to its attributes via methods.\n"
      ]
    },
    {
      "cell_type": "code",
      "metadata": {
        "id": "mZsWG8DIk2MV"
      },
      "source": [
        "class Counter:\n",
        "    def __init__(self):\n",
        "        self.current = 0\n",
        "\n",
        "    def increment(self):\n",
        "        self.current += 1\n",
        "\n",
        "    def value(self):\n",
        "        return self.current\n",
        "\n",
        "    def reset(self):\n",
        "        self.current = 0"
      ],
      "execution_count": null,
      "outputs": []
    },
    {
      "cell_type": "code",
      "metadata": {
        "colab": {
          "base_uri": "https://localhost:8080/"
        },
        "id": "D_ztht4NxvEZ",
        "outputId": "e47a0b6b-323d-44e6-8d9b-ea8022da92d7"
      },
      "source": [
        "counter_obj = Counter()\n",
        "\n",
        "\n",
        "counter_obj.increment()\n",
        "counter_obj.increment()\n",
        "counter_obj.increment()\n",
        "\n",
        "print(counter_obj.value())"
      ],
      "execution_count": null,
      "outputs": [
        {
          "output_type": "stream",
          "name": "stdout",
          "text": [
            "3\n"
          ]
        }
      ]
    },
    {
      "cell_type": "markdown",
      "metadata": {
        "id": "flKjzdUwxZSj"
      },
      "source": [
        "From the outside of the Counter class, you still can access the current attribute and change it to whatever you want."
      ]
    },
    {
      "cell_type": "code",
      "metadata": {
        "colab": {
          "base_uri": "https://localhost:8080/"
        },
        "id": "USFGmkceye8S",
        "outputId": "cef9564c-88c1-47fe-b5ee-57d1c3362ee0"
      },
      "source": [
        "counter_obj.current = 9\n",
        "\n",
        "print(counter_obj.value())"
      ],
      "execution_count": null,
      "outputs": [
        {
          "output_type": "stream",
          "name": "stdout",
          "text": [
            "9\n"
          ]
        }
      ]
    },
    {
      "cell_type": "markdown",
      "metadata": {
        "id": "sK3mzhW1zjCJ"
      },
      "source": [
        "#### Private attributes\n",
        "Private attributes can be only accessible from the methods of the class. In other words, they cannot be accessible from outside of the class."
      ]
    },
    {
      "cell_type": "code",
      "metadata": {
        "id": "JAuJHa_WzfmJ"
      },
      "source": [
        "class Counter:\n",
        "    def __init__(self):\n",
        "        self._current = 0\n",
        "\n",
        "    def increment(self):\n",
        "        self._current += 1\n",
        "\n",
        "    def value(self):\n",
        "        return self._current\n",
        "\n",
        "    def reset(self):\n",
        "        self._current = 0"
      ],
      "execution_count": null,
      "outputs": []
    },
    {
      "cell_type": "markdown",
      "metadata": {
        "id": "-0T5FRvvz9Qp"
      },
      "source": [
        "This means that the _current should not be manipulated and may have a breaking change in the future."
      ]
    },
    {
      "cell_type": "code",
      "metadata": {
        "colab": {
          "base_uri": "https://localhost:8080/"
        },
        "id": "WjcMNIxx00cw",
        "outputId": "f7a5227b-70cf-4516-ca81-5d56e8880bb5"
      },
      "source": [
        "counter_pv_obj = Counter()\n",
        "counter_pv_obj._current = 9000\n",
        "\n",
        "print(counter_pv_obj.value())"
      ],
      "execution_count": null,
      "outputs": [
        {
          "output_type": "stream",
          "name": "stdout",
          "text": [
            "9000\n"
          ]
        }
      ]
    },
    {
      "cell_type": "markdown",
      "metadata": {
        "id": "uH64PgOP0b-A"
      },
      "source": [
        "#### Name mangling with double underscores"
      ]
    },
    {
      "cell_type": "code",
      "metadata": {
        "id": "NosPVmVg0enR"
      },
      "source": [
        "class Counter:\n",
        "    def __init__(self):\n",
        "        self.__current = 0\n",
        "\n",
        "    def increment(self):\n",
        "        self.__current += 1\n",
        "\n",
        "    def value(self):\n",
        "        return self.__current\n",
        "\n",
        "    def reset(self):\n",
        "        self.__current = 0"
      ],
      "execution_count": null,
      "outputs": []
    },
    {
      "cell_type": "code",
      "metadata": {
        "colab": {
          "base_uri": "https://localhost:8080/"
        },
        "id": "9sBB7z_01F1B",
        "outputId": "36265365-60a8-478e-bb98-9dcefb23c8b3"
      },
      "source": [
        "counter_nm_obj = Counter()\n",
        "counter_nm_obj.__current = 9\n",
        "\n",
        "print(counter_nm_obj.value())"
      ],
      "execution_count": null,
      "outputs": [
        {
          "output_type": "stream",
          "name": "stdout",
          "text": [
            "0\n"
          ]
        }
      ]
    },
    {
      "cell_type": "markdown",
      "metadata": {
        "id": "r0tIY31v3RTb"
      },
      "source": [
        "However, you still can access it using the _class__attribute name"
      ]
    },
    {
      "cell_type": "code",
      "metadata": {
        "colab": {
          "base_uri": "https://localhost:8080/"
        },
        "id": "QxmVCh9x3TEh",
        "outputId": "6809f381-c1c4-43d3-e4ab-34b811c53f82"
      },
      "source": [
        "counter_nm_obj._Counter__current = 9\n",
        "\n",
        "print(counter_nm_obj._Counter__current)"
      ],
      "execution_count": null,
      "outputs": [
        {
          "output_type": "stream",
          "name": "stdout",
          "text": [
            "9\n"
          ]
        }
      ]
    },
    {
      "cell_type": "markdown",
      "metadata": {
        "id": "M0gAwOi4Byau"
      },
      "source": [
        "Use case of inheritance, polymorphism and encapsulation."
      ]
    },
    {
      "cell_type": "code",
      "metadata": {
        "id": "cWP30BRJ7Kda"
      },
      "source": [
        "class DogClass(MyPet):\n",
        "  ''' A Derived/Sub-Class from MyPet class '''\n",
        "\n",
        "  def __init__(self, name,age):\n",
        "\n",
        "    #inheriting from the parent alass\n",
        "    super().__init__(name,age)\n",
        "    self.__owner = \"Esther\"\n",
        "\n",
        "   \n",
        "  def say_something(self):\n",
        "    print(f\"My name is {self.name} and I Bark\")\n",
        "\n",
        "  def owner(self):\n",
        "    print(f\"{self.__owner} owns the dog\")\n",
        "\n",
        "class CatClass(MyPet):\n",
        "  ''' A Derived/Sub-Class from MyPet class '''\n",
        "\n",
        "  def __init__(self, name,age):\n",
        "    #inheriting from the parent alass\n",
        "    super().__init__(name,age)\n",
        "    self.__owner = \"Esther\"\n",
        "\n",
        "   \n",
        "  def say_something(self):\n",
        "    print((f\"My name is {self.name} and I Purr\"))\n",
        "\n",
        "  def owner(self):\n",
        "    print(f\"{self.__owner} owns the cat\")"
      ],
      "execution_count": null,
      "outputs": []
    },
    {
      "cell_type": "code",
      "metadata": {
        "colab": {
          "base_uri": "https://localhost:8080/"
        },
        "id": "aX3vH5VFA22a",
        "outputId": "26c282be-8839-42eb-d44a-f8d3c529756e"
      },
      "source": [
        "animal1 = DogClass(\"qwerty\",6)\n",
        "animal2 = CatClass(\"qwerty\",6)\n",
        "\n",
        "animal1.owner()\n",
        "animal2.owner()"
      ],
      "execution_count": null,
      "outputs": [
        {
          "output_type": "stream",
          "name": "stdout",
          "text": [
            "Esther owns the dog\n",
            "Esther owns the cat\n"
          ]
        }
      ]
    },
    {
      "cell_type": "code",
      "metadata": {
        "colab": {
          "base_uri": "https://localhost:8080/"
        },
        "id": "6DUKFoSmCxSj",
        "outputId": "c21bb33c-d3d1-4cb2-9764-d24f4ef44554"
      },
      "source": [
        "animal1._DogClass__owner = \"George\"\n",
        "animal2._CatClass__owner = \"Ann\"\n",
        "\n",
        "animal1.owner()\n",
        "animal2.owner()"
      ],
      "execution_count": null,
      "outputs": [
        {
          "output_type": "stream",
          "name": "stdout",
          "text": [
            "George owns the dog\n",
            "Ann owns the cat\n"
          ]
        }
      ]
    },
    {
      "cell_type": "markdown",
      "metadata": {
        "id": "B-LvPuSLVnLV"
      },
      "source": [
        "### Abstraction\n",
        "Basically, Abstraction focuses on hiding the internal implementations of a process or method from the user. In this way, the user knows what he is doing but not how the work is being done."
      ]
    },
    {
      "cell_type": "code",
      "metadata": {
        "id": "qlkKU9FFVsvv"
      },
      "source": [
        "# declare an abstract class\n",
        "from abc  import ABC, abstractmethod\n",
        "class MyAbsClass(ABC):\n",
        "     #normal method\n",
        "    def print(self,x):\n",
        "        #method definition\n",
        "        print(\"Passed value: \", x)\n",
        "      \n",
        "    @abstractmethod\n",
        "    def task (self):\n",
        "        #Abs_method definition\n",
        "        print(\"We are inside Absclass task\")"
      ],
      "execution_count": null,
      "outputs": []
    },
    {
      "cell_type": "markdown",
      "metadata": {
        "id": "hQizg5B9diu7"
      },
      "source": [
        "We cannot instantiate an abstract class."
      ]
    },
    {
      "cell_type": "code",
      "metadata": {
        "colab": {
          "base_uri": "https://localhost:8080/",
          "height": 163
        },
        "id": "7q_0vEZjdqqM",
        "outputId": "1363d99b-6307-4b40-e686-ab7a4b9f86e5"
      },
      "source": [
        "abs_obj = MyAbsClass()"
      ],
      "execution_count": null,
      "outputs": [
        {
          "output_type": "error",
          "ename": "TypeError",
          "evalue": "ignored",
          "traceback": [
            "\u001b[0;31m---------------------------------------------------------------------------\u001b[0m",
            "\u001b[0;31mTypeError\u001b[0m                                 Traceback (most recent call last)",
            "\u001b[0;32m<ipython-input-29-16fce2e4f8a0>\u001b[0m in \u001b[0;36m<module>\u001b[0;34m()\u001b[0m\n\u001b[0;32m----> 1\u001b[0;31m \u001b[0mabs_obj\u001b[0m \u001b[0;34m=\u001b[0m \u001b[0mMyAbsClass\u001b[0m\u001b[0;34m(\u001b[0m\u001b[0;34m)\u001b[0m\u001b[0;34m\u001b[0m\u001b[0;34m\u001b[0m\u001b[0m\n\u001b[0m",
            "\u001b[0;31mTypeError\u001b[0m: Can't instantiate abstract class MyAbsClass with abstract methods task"
          ]
        }
      ]
    },
    {
      "cell_type": "code",
      "metadata": {
        "id": "VAkDhk2zZuaV"
      },
      "source": [
        "class test_class(MyAbsClass):\n",
        "    def task(self): #overriding abstract method\n",
        "        print(\"We are inside test_class task\")\n",
        " \n",
        "class example_class(MyAbsClass):\n",
        "    def task(self): #overriding abstract method\n",
        "        print(\"We are inside example_class task\")\n",
        " "
      ],
      "execution_count": null,
      "outputs": []
    },
    {
      "cell_type": "code",
      "metadata": {
        "colab": {
          "base_uri": "https://localhost:8080/"
        },
        "id": "k0hwB8tYaDxD",
        "outputId": "0c157b64-6a4e-42df-d3f5-9a9c3ecab0e9"
      },
      "source": [
        "#object of test_class created\n",
        "test_obj = test_class()\n",
        "test_obj.task()\n",
        "test_obj.print(100)\n",
        " \n",
        "#object of example_class created\n",
        "example_obj = example_class()\n",
        "example_obj.task()\n",
        "example_obj.print(200)"
      ],
      "execution_count": null,
      "outputs": [
        {
          "output_type": "stream",
          "name": "stdout",
          "text": [
            "We are inside test_class task\n",
            "Passed value:  100\n",
            "We are inside example_class task\n",
            "Passed value:  200\n"
          ]
        }
      ]
    },
    {
      "cell_type": "markdown",
      "metadata": {
        "id": "hSVr1GFtaXor"
      },
      "source": [
        "After the user creates objects from both the test_class and example_class classes and invoke the task() method for both of them, the hidden definitions for task() methods inside both the classes come into play. These definitions are hidden from the user. The abstract method task() from the abstract class Absclass is actually never invoked.\n",
        "\n",
        "But when the print() method is called for both the test_obj and example_obj, the Absclass’s print() method is invoked since it is not an abstract method."
      ]
    },
    {
      "cell_type": "code",
      "metadata": {
        "colab": {
          "base_uri": "https://localhost:8080/"
        },
        "id": "1VfGH8YD4w4i",
        "outputId": "5d07b884-69ee-4df7-d345-a84ff5b138cf"
      },
      "source": [
        ""
      ],
      "execution_count": null,
      "outputs": [
        {
          "output_type": "stream",
          "name": "stdout",
          "text": [
            "9\n"
          ]
        }
      ]
    }
  ]
}